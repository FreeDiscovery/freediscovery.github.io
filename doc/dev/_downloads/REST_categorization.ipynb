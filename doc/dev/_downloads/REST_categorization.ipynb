{
  "nbformat_minor": 0, 
  "nbformat": 4, 
  "cells": [
    {
      "execution_count": null, 
      "cell_type": "code", 
      "source": [
        "%matplotlib inline"
      ], 
      "outputs": [], 
      "metadata": {
        "collapsed": false
      }
    }, 
    {
      "source": [
        "\nCategorization Example [REST API]\n---------------------------------\n\nAn example to illustrate binary categorizaiton with FreeDiscovery\n\n"
      ], 
      "cell_type": "markdown", 
      "metadata": {}
    }, 
    {
      "execution_count": null, 
      "cell_type": "code", 
      "source": [
        "from __future__ import print_function\n\nfrom time import time, sleep\nfrom multiprocessing import Process\nimport requests\nimport pandas as pd\n\npd.options.display.float_format = '{:,.3f}'.format\npd.options.display.expand_frame_repr = False\n\ndataset_name = \"treclegal09_2k_subset\"     # see list of available datasets\n\nBASE_URL = \"http://localhost:5001/api/v0\"  # FreeDiscovery server URL\n\nif __name__ == '__main__':\n\n    print(\" 0. Load the test dataset\")\n    url = BASE_URL + '/datasets/{}'.format(dataset_name)\n    print(\" GET\", url)\n    res = requests.get(url).json()\n\n    # To use a custom dataset, simply specify the following variables\n    data_dir = res['data_dir']\n    seed_filenames = res['seed_filenames']\n    seed_y = res['seed_y']\n    ground_truth_file = res['ground_truth_file']  # (optional)\n\n\n    # 1. Feature extraction\n\n    print(\"\\n1.a Load dataset and initalize feature extraction\")\n    url = BASE_URL + '/feature-extraction'\n    print(\" POST\", url)\n    res = requests.post(url, json={'data_dir': data_dir,\n                                   'use_hashing': True}).json()\n\n    dsid = res['id']\n    print(\"   => received {}\".format(list(res.keys())))\n    print(\"   => dsid = {}\".format(dsid))\n\n    print(\"\\n1.b Start feature extraction (in the background)\")\n\n    # Make this call in a background process (there should be a better way of doing it)\n    url = BASE_URL+'/feature-extraction/{}'.format(dsid)\n    print(\" POST\", url)\n    p = Process(target=requests.post, args=(url,))\n    p.start()\n    sleep(5.0) # wait a bit for the processing to start\n\n    print('\\n1.c Monitor feature extraction progress')\n    url = BASE_URL+'/feature-extraction/{}'.format(dsid)\n    print(\" GET\", url)\n\n    t0 = time()\n    while True:\n        res = requests.get(url)\n        if res.status_code == 520:\n            p.terminate()\n            raise ValueError('Processing did not start')\n        elif res.status_code == 200:\n            break # processing finished\n        data = res.json()\n        print('     ... {}k/{}k files processed in {:.1f} min'.format(\n                    data['n_samples_processed']//1000, data['n_samples']//1000, (time() - t0)/60.))\n        sleep(15.0)\n\n    p.terminate()  # just in case, should not be necessary\n\n\n    print(\"\\n1.d. check the parameters of the extracted features\")\n    url = BASE_URL + '/feature-extraction/{}'.format(dsid)\n    print(' GET', url)\n    res = requests.get(url).json()\n\n    print('\\n'.join(['     - {}: {}'.format(key, val) for key, val in res.items() \\\n                                                      if \"filenames\" not in key]))\n\n    method = BASE_URL + \"/feature-extraction/{}/index\".format(dsid)\n    res = requests.get(method, data={'filenames': seed_filenames})\n    seed_index = res.json()['index']\n\n\n    # 3. Document categorization with LSI (used for Nearest Neighbors method)\n\n    print(\"\\n2. Calculate LSI\")\n\n    url = BASE_URL + '/lsi/'\n    print(\"POST\", url)\n\n    n_components = 100\n    res = requests.post(url,\n                        json={'n_components': n_components,\n                              'parent_id': dsid\n                              }).json()\n\n    lsi_id = res['id']\n    print('  => LSI model id = {}'.format(lsi_id))\n    print('  => SVD decomposition with {} dimensions explaining {:.2f} % variabilty of the data'.format(\n                            n_components, res['explained_variance']*100))\n\n\n    # 3. Document categorization\n\n    print(\"\\n3.a. Train the categorization model\")\n    print(\"   {} relevant, {} non-relevant files\".format(seed_y.count(1), seed_y.count(0)))\n\n    for method, use_lsi in [('LinearSVC', False),\n                            ('NearestNeighbor', True)]:\n\n        print('='*80, '\\n', ' '*10,\n              method, \" + LSI\" if use_lsi else ' ', '\\n', '='*80)\n        if use_lsi:\n            # Categorization with the previously created LSI model\n            parent_id = lsi_id\n        else:\n            # Categorization with original text features\n            parent_id = dsid\n\n        url = BASE_URL + '/categorization/'\n        print(\" POST\", url)\n        print(' Training...')\n\n        res = requests.post(url,\n                            json={'index': seed_index,\n                                  'y': seed_y,\n                                  'parent_id': parent_id,\n                                  'method': method,  # one of \"LinearSVC\", \"LogisticRegression\", 'xgboost'\n                                  }).json()\n\n        mid = res['id']\n        print(\"     => model id = {}\".format(mid))\n        print('    => Training scores: MAP = {average_precision:.3f}, ROC-AUC = {roc_auc:.3f}'.format(**res))\n\n        print(\"\\n3.b. Check the parameters used in the categorization model\")\n        url = BASE_URL + '/categorization/{}'.format(mid)\n        print(\" GET\", url)\n        res = requests.get(url).json()\n\n        print('\\n'.join(['     - {}: {}'.format(key, val) for key, val in res.items() \\\n                                                          if key not in ['index', 'y']]))\n\n        print(\"\\n3.c Categorize the complete dataset with this model\")\n        url = BASE_URL + '/categorization/{}/predict'.format(mid)\n        print(\" GET\", url)\n        res = requests.get(url).json()\n\n        if method == \"NearestNeighbor\":\n\n            def flatten_dict(d, parent_key='', sep='__'):\n                \"\"\"Flatten a nested dictionary \"\"\"\n                import collections\n                items = []\n                for k, v in d.items():\n                    new_key = parent_key + sep + k if parent_key else k\n                    if isinstance(v, collections.MutableMapping):\n                        items.extend(flatten_dict(v, new_key, sep=sep).items())\n                    else:\n                        items.append((new_key, v))\n                return dict(items)\n            \n            data = [flatten_dict(el) for el in res['data']]\n        else:\n            data = res['data']\n\n        print(pd.DataFrame(data).set_index('internal_id'))\n\n        print(\"\\n3.d Test categorization accuracy\")\n        print(\"         using {}\".format(ground_truth_file))  \n        url = BASE_URL + '/categorization/{}/test'.format(mid)\n        print(\"POST\", url)\n        res = requests.post(url, json={'ground_truth_filename': ground_truth_file}).json()\n\n        print('    => Test scores: MAP = {average_precision:.3f}, ROC-AUC = {roc_auc:.3f}'.format(**res))\n\n    # 4. Cleaning\n    print(\"\\n5.a Delete the extracted features (and LSI decomposition)\")\n    url = BASE_URL + '/feature-extraction/{}'.format(dsid)\n    print(\" DELETE\", url)\n    requests.delete(url)"
      ], 
      "outputs": [], 
      "metadata": {
        "collapsed": false
      }
    }
  ], 
  "metadata": {
    "kernelspec": {
      "display_name": "Python 2", 
      "name": "python2", 
      "language": "python"
    }, 
    "language_info": {
      "mimetype": "text/x-python", 
      "nbconvert_exporter": "python", 
      "name": "python", 
      "file_extension": ".py", 
      "version": "2.7.11", 
      "pygments_lexer": "ipython2", 
      "codemirror_mode": {
        "version": 2, 
        "name": "ipython"
      }
    }
  }
}