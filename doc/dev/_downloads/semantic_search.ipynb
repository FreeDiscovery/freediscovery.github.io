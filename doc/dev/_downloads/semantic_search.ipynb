{
  "cells": [
    {
      "cell_type": "code",
      "execution_count": null,
      "metadata": {
        "collapsed": false
      },
      "outputs": [],
      "source": [
        "%matplotlib inline"
      ]
    },
    {
      "cell_type": "markdown",
      "metadata": {},
      "source": [
        "\nSemantic Search\n===============\n\nAn example of Semantic Search\n\n"
      ]
    },
    {
      "cell_type": "code",
      "execution_count": null,
      "metadata": {
        "collapsed": false
      },
      "outputs": [],
      "source": [
        "from __future__ import print_function\n\nimport os.path\nimport requests\nimport pandas as pd\n\npd.options.display.float_format = '{:,.3f}'.format\npd.options.display.expand_frame_repr = False\n\ndataset_name = \"treclegal09_2k_subset\"     # see list of available datasets\n\nBASE_URL = \"http://localhost:5001/api/v0\"  # FreeDiscovery server URL"
      ]
    },
    {
      "cell_type": "markdown",
      "metadata": {},
      "source": [
        "0. Load the test dataset\n------------------------\n\n"
      ]
    },
    {
      "cell_type": "code",
      "execution_count": null,
      "metadata": {
        "collapsed": false
      },
      "outputs": [],
      "source": [
        "url = BASE_URL + '/example-dataset/{}'.format(dataset_name)\nprint(\" GET\", url)\ninput_ds = requests.get(url).json()\n\n# create a custom dataset definition for ingestion\ndata_dir = input_ds['metadata']['data_dir']\ndataset_definition = [{'document_id': row['document_id'],\n                       'file_path': os.path.join(data_dir, row['file_path'])}\n                      for row in input_ds['dataset']]"
      ]
    },
    {
      "cell_type": "markdown",
      "metadata": {},
      "source": [
        "1. Feature extraction\n---------------------\n1.a Load dataset and initalize feature extraction\n\n"
      ]
    },
    {
      "cell_type": "code",
      "execution_count": null,
      "metadata": {
        "collapsed": false
      },
      "outputs": [],
      "source": [
        "url = BASE_URL + '/feature-extraction'\nprint(\" POST\", url)\nres = requests.post(url).json()\n\ndsid = res['id']\nprint(\"   => received {}\".format(list(res.keys())))\nprint(\"   => dsid = {}\".format(dsid))"
      ]
    },
    {
      "cell_type": "markdown",
      "metadata": {},
      "source": [
        "1.b Start feature extraction\n\n"
      ]
    },
    {
      "cell_type": "code",
      "execution_count": null,
      "metadata": {
        "collapsed": false
      },
      "outputs": [],
      "source": [
        "url = BASE_URL+'/feature-extraction/{}'.format(dsid)\nprint(\" POST\", url)\nrequests.post(url, json={'dataset_definition': dataset_definition})"
      ]
    },
    {
      "cell_type": "markdown",
      "metadata": {},
      "source": [
        "2. Calculate LSI\n----------------\n(used for Nearest Neighbors method)\n\n"
      ]
    },
    {
      "cell_type": "code",
      "execution_count": null,
      "metadata": {
        "collapsed": false
      },
      "outputs": [],
      "source": [
        "url = BASE_URL + '/lsi/'\nprint(\"POST\", url)\nn_components = 100\nres = requests.post(url,\n                    json={'n_components': n_components,\n                          'parent_id': dsid\n                          }).json()\n\nlsi_id = res['id']\nprint('  => LSI model id = {}'.format(lsi_id))\nprint((\"  => SVD decomposition with {} dimensions explaining \"\n       \"{:.2f} % variabilty     of the data\")\n      .format(n_components, res['explained_variance']*100))"
      ]
    },
    {
      "cell_type": "markdown",
      "metadata": {},
      "source": [
        "3. Semantic search\n------------------\n\n"
      ]
    },
    {
      "cell_type": "code",
      "execution_count": null,
      "metadata": {
        "collapsed": false
      },
      "outputs": [],
      "source": [
        "print(\"\\n3.a. Perform the semantic search\")\n\n\nquery = (\"There are some conflicts with the draft date, so we will probably \"\n         \"need to have it on a different date.\")\n\nurl = BASE_URL + '/search/'\nprint(\" POST\", url)\n\nres = requests.post(url,\n                    json={'parent_id': lsi_id,\n                          'query': query\n                          }).json()\n\ndata = res['data']\n\ndf = pd.DataFrame(data).set_index('document_id')\nprint(df)\n\nprint(df.score.max())"
      ]
    },
    {
      "cell_type": "markdown",
      "metadata": {},
      "source": [
        "Delete the extracted features\n\n"
      ]
    },
    {
      "cell_type": "code",
      "execution_count": null,
      "metadata": {
        "collapsed": false
      },
      "outputs": [],
      "source": [
        "url = BASE_URL + '/feature-extraction/{}'.format(dsid)\nrequests.delete(url)"
      ]
    }
  ],
  "metadata": {
    "kernelspec": {
      "display_name": "Python 3",
      "language": "python",
      "name": "python3"
    },
    "language_info": {
      "codemirror_mode": {
        "name": "ipython",
        "version": 3
      },
      "file_extension": ".py",
      "mimetype": "text/x-python",
      "name": "python",
      "nbconvert_exporter": "python",
      "pygments_lexer": "ipython3",
      "version": "3.6.8"
    }
  },
  "nbformat": 4,
  "nbformat_minor": 0
}