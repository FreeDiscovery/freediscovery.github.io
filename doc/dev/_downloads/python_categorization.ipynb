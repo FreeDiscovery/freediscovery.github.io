{
  "nbformat_minor": 0, 
  "nbformat": 4, 
  "cells": [
    {
      "execution_count": null, 
      "cell_type": "code", 
      "source": [
        "%matplotlib inline"
      ], 
      "outputs": [], 
      "metadata": {
        "collapsed": false
      }
    }, 
    {
      "source": [
        "\nCategorization Example [Python API]\n-----------------------------------\n\nAn example of categorization using the Python API\n\n"
      ], 
      "cell_type": "markdown", 
      "metadata": {}
    }, 
    {
      "execution_count": null, 
      "cell_type": "code", 
      "source": [
        "from __future__ import print_function\n\nimport numpy as np\n\nfrom freediscovery.datasets import load_dataset\nfrom freediscovery.text import FeatureVectorizer\nfrom freediscovery.categorization import _CategorizerWrapper\nfrom freediscovery.tests.run_suite import check_cache\nfrom freediscovery.io import parse_ground_truth_file\nfrom freediscovery.utils import categorization_score\n\ndataset_name = \"treclegal09_2k_subset\"     # see list of available datasets\n\ncache_dir = check_cache()\n\nif __name__ == '__main__':\n\n    ds = load_dataset(dataset_name, load_ground_truth=True, cache_dir=cache_dir)\n\n\n    # To use a custom dataset, simply specify the following variables\n    data_dir = ds['data_dir']\n    seed_filenames = ds['seed_filenames']\n    seed_y = ds['seed_y']\n    ground_truth_file = ds['ground_truth_file']  # (optional)\n\n    fe_opts = {'data_dir': data_dir,\n               'stop_words': 'english', 'chunk_size': 2000, 'n_jobs': -1,\n               'use_idf': 1, 'sublinear_tf': 0, 'binary': 0, 'n_features': 50001,\n               'analyzer': 'word', 'ngram_range': (1, 1), \"norm\": \"l2\"\n              }\n\n    fe = FeatureVectorizer(cache_dir=cache_dir)\n\n    uuid = fe.preprocess(**fe_opts)\n    uuid, filenames  = fe.transform()\n\n    seed_index = fe.search(seed_filenames)\n\n    cat = _CategorizerWrapper(cache_dir=cache_dir, parent_id=uuid)\n    cat.train(seed_index, seed_y)\n\n    predictions, md = cat.predict()\n\n    gt = parse_ground_truth_file( ground_truth_file)\n    idx_ref = cat.fe.search(gt.index.values)\n    idx_res = np.arange(cat.fe.n_samples_, dtype='int')\n\n    scores = categorization_score(idx_ref, gt.is_relevant.values,\n                               idx_res, predictions)\n\n    print('    => Test scores: MAP = {average_precision:.3f}, ROC-AUC = {roc_auc:.3f}'.format(**scores))"
      ], 
      "outputs": [], 
      "metadata": {
        "collapsed": false
      }
    }
  ], 
  "metadata": {
    "kernelspec": {
      "display_name": "Python 2", 
      "name": "python2", 
      "language": "python"
    }, 
    "language_info": {
      "mimetype": "text/x-python", 
      "nbconvert_exporter": "python", 
      "name": "python", 
      "file_extension": ".py", 
      "version": "2.7.11", 
      "pygments_lexer": "ipython2", 
      "codemirror_mode": {
        "version": 2, 
        "name": "ipython"
      }
    }
  }
}