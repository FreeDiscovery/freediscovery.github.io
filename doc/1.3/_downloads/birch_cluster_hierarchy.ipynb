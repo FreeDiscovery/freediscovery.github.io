{
  "cells": [
    {
      "cell_type": "code",
      "execution_count": null,
      "metadata": {
        "collapsed": false
      },
      "outputs": [],
      "source": [
        "%matplotlib inline"
      ]
    },
    {
      "cell_type": "markdown",
      "metadata": {},
      "source": [
        "\n\nExploring BIRCH cluster hierarchy\n=================================\n\nAn example illustrating how to explore the cluster hierarchy\ncomputed by the BIRCH algorithm.\n\nIn this example, we use a\n`patched verson <birch_section>` of :class:`sklearn.cluster.Birch`\nthat allows to store the id of samples belonging to each subcluster.\nThis modified version is available from :class:`freediscovery.cluster.Birch`.\n\nBuilding the cluster hierarchy\n------------------------------\n\nWe start by computing BIRCH clustering on some random structured data,\n\n"
      ]
    },
    {
      "cell_type": "code",
      "execution_count": null,
      "metadata": {
        "collapsed": false
      },
      "outputs": [],
      "source": [
        "import numpy as np\nfrom sklearn.datasets import make_blobs\nfrom freediscovery.cluster import Birch, birch_hierarchy_wrapper\n\nrng = np.random.RandomState(42)\n\nX, y = make_blobs(n_samples=1000, n_features=10, random_state=rng)\n\n\ncluster_model = Birch(threshold=0.9, branching_factor=20,\n                      compute_sample_indices=True)\ncluster_model.fit(X)"
      ]
    },
    {
      "cell_type": "markdown",
      "metadata": {},
      "source": [
        "Next we wrap each subcluster in the cluster hierarchy\n(``cluster_model.root_``) with the\n:class:`~freediscovery.cluster.BirchSubcluster` class\nthat allows easier manipulation of the hierarchical tree.\n\n"
      ]
    },
    {
      "cell_type": "code",
      "execution_count": null,
      "metadata": {
        "collapsed": false
      },
      "outputs": [],
      "source": [
        "htree, _ = birch_hierarchy_wrapper(cluster_model)\nprint('Total number of subclusters:', htree.tree_size)"
      ]
    },
    {
      "cell_type": "markdown",
      "metadata": {},
      "source": [
        "Visualizing the hierarchy\n-------------------------\nWe can now visualize the cluster hierarchy,\n\n"
      ]
    },
    {
      "cell_type": "code",
      "execution_count": null,
      "metadata": {
        "collapsed": false
      },
      "outputs": [],
      "source": [
        "htree.display_tree()"
      ]
    },
    {
      "cell_type": "markdown",
      "metadata": {},
      "source": [
        "We have a hierarchy 2 levels deep, with 78 sub-clusters and a total\nof 1000 samples.\n\nFor instance, let's consider the subcluster with  ``cluster_id=34``.\nWe can access it by id with the flattened representation of the hierarchy,\n\n"
      ]
    },
    {
      "cell_type": "code",
      "execution_count": null,
      "metadata": {
        "collapsed": false
      },
      "outputs": [],
      "source": [
        "sc = htree.flatten()[34]\nprint(sc)"
      ]
    },
    {
      "cell_type": "markdown",
      "metadata": {},
      "source": [
        "Each subcluster is a dictionary linked inside the hierarchy via the\n`parent` / `children` attributes\n(cf documentation of :class:`~freediscovery.cluster.BirchSubcluster`).\nThe ids of the samples contained in a subcluster are stored under the\n``document_id_accumulated`` key. We can perform any calculations with the\nsamples in a given cluster by indexing the original dataset `X`,\n\n"
      ]
    },
    {
      "cell_type": "code",
      "execution_count": null,
      "metadata": {
        "collapsed": false
      },
      "outputs": [],
      "source": [
        "print('cluster_id', sc['cluster_id'])\nprint('document_id_accumulated', sc['document_id_accumulated'])\nsc_centroid = X[sc['document_id_accumulated'], :].mean(axis=0)\nprint(sc_centroid)"
      ]
    },
    {
      "cell_type": "markdown",
      "metadata": {},
      "source": [
        "For instance, we can select only subclusters that are one level deep\n(this includes ``cluster_id=34``) and compute their centroids,\n\n"
      ]
    },
    {
      "cell_type": "code",
      "execution_count": null,
      "metadata": {
        "collapsed": false
      },
      "outputs": [],
      "source": [
        "htree_depth_1 = [sc for sc in htree.flatten() if sc.current_depth == 1]\n\nfor sc in htree_depth_1:\n    sc['centroid'] = X[sc['document_id_accumulated'], :].mean(axis=0)\n\nprint('Centroid for cluster_id=34:\\n', htree.flatten()[34]['centroid'])"
      ]
    },
    {
      "cell_type": "markdown",
      "metadata": {},
      "source": [
        "Custom calculations in the hierarchy\n------------------------------------\n\nWhile for a number of computations, it is sufficient to iterate through\na flattened tree, sometimes the output of the calculation need to account\nfor data from any number of other subclusters in the tree (e.g. all the\nchildren). In this case we can subclass\n:class:`~freediscovery.cluster.BirchSubcluster` to add out custom recursive\nfunction. Here we will add a function that for any subcluster computes the\nthe maximum depth of the tree spanned by its children subclusters,\n\n"
      ]
    },
    {
      "cell_type": "code",
      "execution_count": null,
      "metadata": {
        "collapsed": false
      },
      "outputs": [],
      "source": [
        "from freediscovery.cluster import BirchSubcluster\n\n\nclass NewBirchSubcluster(BirchSubcluster):\n\n    @property\n    def max_tree_depth(self):\n        if self.children:\n            return 1 + max(sc.max_tree_depth for sc in self.children)\n        else:\n            return 0"
      ]
    },
    {
      "cell_type": "markdown",
      "metadata": {},
      "source": [
        "by re-wrapping the cluster hierarchy with this container, we get,\n\n"
      ]
    },
    {
      "cell_type": "code",
      "execution_count": null,
      "metadata": {
        "collapsed": false
      },
      "outputs": [],
      "source": [
        "htree_new, _ = birch_hierarchy_wrapper(cluster_model,\n                                       container=NewBirchSubcluster)\n\nprint('Tree depth from the root node:', htree_new.max_tree_depth)\n\nprint('Tree depth from cluster_id=34:', htree_new.flatten()[34].max_tree_depth)"
      ]
    }
  ],
  "metadata": {
    "kernelspec": {
      "display_name": "Python 3",
      "language": "python",
      "name": "python3"
    },
    "language_info": {
      "codemirror_mode": {
        "name": "ipython",
        "version": 3
      },
      "file_extension": ".py",
      "mimetype": "text/x-python",
      "name": "python",
      "nbconvert_exporter": "python",
      "pygments_lexer": "ipython3",
      "version": "3.6.2"
    }
  },
  "nbformat": 4,
  "nbformat_minor": 0
}